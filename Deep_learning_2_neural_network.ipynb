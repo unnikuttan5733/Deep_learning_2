{
  "nbformat": 4,
  "nbformat_minor": 0,
  "metadata": {
    "colab": {
      "name": "Deep_learning_2_neural_network.ipynb",
      "provenance": []
    },
    "kernelspec": {
      "name": "python3",
      "display_name": "Python 3"
    },
    "accelerator": "GPU"
  },
  "cells": [
    {
      "cell_type": "code",
      "metadata": {
        "id": "NOLZGSLPM3Ke",
        "colab_type": "code",
        "colab": {
          "base_uri": "https://localhost:8080/",
          "height": 612
        },
        "outputId": "7cf46022-d734-43ff-a4cd-73fb5bba265b"
      },
      "source": [
        "!pip install --upgrade tensorflow   \n",
        "\n",
        "from platform import python_version\n",
        "import tensorflow as tf\n",
        "from tensorflow import keras\n",
        "import numpy as np\n",
        "from tensorflow.keras.models import Sequential\n",
        "from tensorflow.keras.layers import Dense,Activation,Dropout,Flatten\n",
        "from tensorflow.keras.layers import Conv2D, MaxPooling2D,BatchNormalization\n",
        "from tensorflow.keras.optimizers import Adam\n",
        "from tensorflow.keras.callbacks import Callback,EarlyStopping\n",
        "from tensorflow.keras.datasets import fashion_mnist\n",
        "from tensorflow.keras import backend as K\n",
        "import random\n",
        "import matplotlib.pyplot as plt"
      ],
      "execution_count": 25,
      "outputs": [
        {
          "output_type": "stream",
          "text": [
            "Requirement already up-to-date: tensorflow in /usr/local/lib/python3.6/dist-packages (2.1.0)\n",
            "Requirement already satisfied, skipping upgrade: absl-py>=0.7.0 in /usr/local/lib/python3.6/dist-packages (from tensorflow) (0.9.0)\n",
            "Requirement already satisfied, skipping upgrade: keras-preprocessing>=1.1.0 in /usr/local/lib/python3.6/dist-packages (from tensorflow) (1.1.0)\n",
            "Requirement already satisfied, skipping upgrade: termcolor>=1.1.0 in /usr/local/lib/python3.6/dist-packages (from tensorflow) (1.1.0)\n",
            "Requirement already satisfied, skipping upgrade: opt-einsum>=2.3.2 in /usr/local/lib/python3.6/dist-packages (from tensorflow) (3.1.0)\n",
            "Requirement already satisfied, skipping upgrade: scipy==1.4.1; python_version >= \"3\" in /usr/local/lib/python3.6/dist-packages (from tensorflow) (1.4.1)\n",
            "Requirement already satisfied, skipping upgrade: six>=1.12.0 in /usr/local/lib/python3.6/dist-packages (from tensorflow) (1.12.0)\n",
            "Requirement already satisfied, skipping upgrade: astor>=0.6.0 in /usr/local/lib/python3.6/dist-packages (from tensorflow) (0.8.1)\n",
            "Requirement already satisfied, skipping upgrade: keras-applications>=1.0.8 in /usr/local/lib/python3.6/dist-packages (from tensorflow) (1.0.8)\n",
            "Requirement already satisfied, skipping upgrade: numpy<2.0,>=1.16.0 in /usr/local/lib/python3.6/dist-packages (from tensorflow) (1.17.5)\n",
            "Requirement already satisfied, skipping upgrade: gast==0.2.2 in /usr/local/lib/python3.6/dist-packages (from tensorflow) (0.2.2)\n",
            "Requirement already satisfied, skipping upgrade: protobuf>=3.8.0 in /usr/local/lib/python3.6/dist-packages (from tensorflow) (3.10.0)\n",
            "Requirement already satisfied, skipping upgrade: tensorboard<2.2.0,>=2.1.0 in /usr/local/lib/python3.6/dist-packages (from tensorflow) (2.1.0)\n",
            "Requirement already satisfied, skipping upgrade: google-pasta>=0.1.6 in /usr/local/lib/python3.6/dist-packages (from tensorflow) (0.1.8)\n",
            "Requirement already satisfied, skipping upgrade: wrapt>=1.11.1 in /usr/local/lib/python3.6/dist-packages (from tensorflow) (1.11.2)\n",
            "Requirement already satisfied, skipping upgrade: grpcio>=1.8.6 in /usr/local/lib/python3.6/dist-packages (from tensorflow) (1.27.1)\n",
            "Requirement already satisfied, skipping upgrade: wheel>=0.26; python_version >= \"3\" in /usr/local/lib/python3.6/dist-packages (from tensorflow) (0.34.2)\n",
            "Requirement already satisfied, skipping upgrade: tensorflow-estimator<2.2.0,>=2.1.0rc0 in /usr/local/lib/python3.6/dist-packages (from tensorflow) (2.1.0)\n",
            "Requirement already satisfied, skipping upgrade: h5py in /usr/local/lib/python3.6/dist-packages (from keras-applications>=1.0.8->tensorflow) (2.8.0)\n",
            "Requirement already satisfied, skipping upgrade: setuptools in /usr/local/lib/python3.6/dist-packages (from protobuf>=3.8.0->tensorflow) (45.1.0)\n",
            "Requirement already satisfied, skipping upgrade: werkzeug>=0.11.15 in /usr/local/lib/python3.6/dist-packages (from tensorboard<2.2.0,>=2.1.0->tensorflow) (1.0.0)\n",
            "Requirement already satisfied, skipping upgrade: markdown>=2.6.8 in /usr/local/lib/python3.6/dist-packages (from tensorboard<2.2.0,>=2.1.0->tensorflow) (3.2.1)\n",
            "Requirement already satisfied, skipping upgrade: google-auth-oauthlib<0.5,>=0.4.1 in /usr/local/lib/python3.6/dist-packages (from tensorboard<2.2.0,>=2.1.0->tensorflow) (0.4.1)\n",
            "Requirement already satisfied, skipping upgrade: google-auth<2,>=1.6.3 in /usr/local/lib/python3.6/dist-packages (from tensorboard<2.2.0,>=2.1.0->tensorflow) (1.7.2)\n",
            "Requirement already satisfied, skipping upgrade: requests<3,>=2.21.0 in /usr/local/lib/python3.6/dist-packages (from tensorboard<2.2.0,>=2.1.0->tensorflow) (2.21.0)\n",
            "Requirement already satisfied, skipping upgrade: requests-oauthlib>=0.7.0 in /usr/local/lib/python3.6/dist-packages (from google-auth-oauthlib<0.5,>=0.4.1->tensorboard<2.2.0,>=2.1.0->tensorflow) (1.3.0)\n",
            "Requirement already satisfied, skipping upgrade: rsa<4.1,>=3.1.4 in /usr/local/lib/python3.6/dist-packages (from google-auth<2,>=1.6.3->tensorboard<2.2.0,>=2.1.0->tensorflow) (4.0)\n",
            "Requirement already satisfied, skipping upgrade: pyasn1-modules>=0.2.1 in /usr/local/lib/python3.6/dist-packages (from google-auth<2,>=1.6.3->tensorboard<2.2.0,>=2.1.0->tensorflow) (0.2.8)\n",
            "Requirement already satisfied, skipping upgrade: cachetools<3.2,>=2.0.0 in /usr/local/lib/python3.6/dist-packages (from google-auth<2,>=1.6.3->tensorboard<2.2.0,>=2.1.0->tensorflow) (3.1.1)\n",
            "Requirement already satisfied, skipping upgrade: certifi>=2017.4.17 in /usr/local/lib/python3.6/dist-packages (from requests<3,>=2.21.0->tensorboard<2.2.0,>=2.1.0->tensorflow) (2019.11.28)\n",
            "Requirement already satisfied, skipping upgrade: urllib3<1.25,>=1.21.1 in /usr/local/lib/python3.6/dist-packages (from requests<3,>=2.21.0->tensorboard<2.2.0,>=2.1.0->tensorflow) (1.24.3)\n",
            "Requirement already satisfied, skipping upgrade: chardet<3.1.0,>=3.0.2 in /usr/local/lib/python3.6/dist-packages (from requests<3,>=2.21.0->tensorboard<2.2.0,>=2.1.0->tensorflow) (3.0.4)\n",
            "Requirement already satisfied, skipping upgrade: idna<2.9,>=2.5 in /usr/local/lib/python3.6/dist-packages (from requests<3,>=2.21.0->tensorboard<2.2.0,>=2.1.0->tensorflow) (2.8)\n",
            "Requirement already satisfied, skipping upgrade: oauthlib>=3.0.0 in /usr/local/lib/python3.6/dist-packages (from requests-oauthlib>=0.7.0->google-auth-oauthlib<0.5,>=0.4.1->tensorboard<2.2.0,>=2.1.0->tensorflow) (3.1.0)\n",
            "Requirement already satisfied, skipping upgrade: pyasn1>=0.1.3 in /usr/local/lib/python3.6/dist-packages (from rsa<4.1,>=3.1.4->google-auth<2,>=1.6.3->tensorboard<2.2.0,>=2.1.0->tensorflow) (0.4.8)\n"
          ],
          "name": "stdout"
        }
      ]
    },
    {
      "cell_type": "code",
      "metadata": {
        "id": "2G3z9QIEtQgh",
        "colab_type": "code",
        "colab": {}
      },
      "source": [
        "(x_train, y_train), (x_test, y_test) = fashion_mnist.load_data()"
      ],
      "execution_count": 0,
      "outputs": []
    },
    {
      "cell_type": "code",
      "metadata": {
        "id": "KSL2simCxt15",
        "colab_type": "code",
        "colab": {}
      },
      "source": [
        "n_class=10;\n",
        "col=x_train.shape[2]\n",
        "row=x_train.shape[1]\n",
        "\n",
        "#for DNN model data formatting \n",
        "x_train_dnn = x_train.reshape(x_train.shape[0], row*col)\n",
        "x_test_dnn = x_test.reshape(x_test.shape[0], row*col)\n",
        "\n",
        "#for CNN model data formatting \n",
        "x_train_cnn=x_train.reshape(x_train.shape[0], row,col,1)\n",
        "x_test_cnn=x_test.reshape(x_test.shape[0], row,col,1)\n",
        "\n",
        "# normalising by dividing by 255\n",
        "X_train_dnn=x_train_dnn.astype('float32')/255\n",
        "x_test_dnn=x_test_dnn.astype('float32')/255\n",
        "x_train_cnn=x_train_cnn.astype('float32')/255\n",
        "x_test_cnn=x_test_cnn.astype('float32')/255\n"
      ],
      "execution_count": 0,
      "outputs": []
    },
    {
      "cell_type": "code",
      "metadata": {
        "id": "Rj3DLyldy9uA",
        "colab_type": "code",
        "outputId": "170ecece-1a6e-4dda-b460-986671303690",
        "colab": {
          "base_uri": "https://localhost:8080/",
          "height": 68
        }
      },
      "source": [
        "print(x_train_dnn.shape)\n",
        "print(x_test_dnn.shape)\n",
        "print(x_train_cnn.shape)"
      ],
      "execution_count": 28,
      "outputs": [
        {
          "output_type": "stream",
          "text": [
            "(60000, 784)\n",
            "(10000, 784)\n",
            "(60000, 28, 28, 1)\n"
          ],
          "name": "stdout"
        }
      ]
    },
    {
      "cell_type": "code",
      "metadata": {
        "id": "AlIo36Nh1z9H",
        "colab_type": "code",
        "colab": {}
      },
      "source": [
        "y_train = keras.utils.to_categorical(y_train, n_class)\n",
        "y_test = keras.utils.to_categorical(y_test, n_class)"
      ],
      "execution_count": 0,
      "outputs": []
    },
    {
      "cell_type": "code",
      "metadata": {
        "id": "fFX--lmgzJAY",
        "colab_type": "code",
        "colab": {}
      },
      "source": [
        "\n",
        "class EarlyStopping(Callback):\n",
        "    def __init__(self, monitor='accuracy', value=1.0, verbose=0):\n",
        "        super(Callback, self).__init__()\n",
        "        self.monitor = monitor\n",
        "        self.value = value\n",
        "        self.verbose = verbose\n",
        "\n",
        "    def on_epoch_end(self, epoch, logs={}):\n",
        "        current = logs.get(self.monitor)\n",
        "        if current is None:\n",
        "            print (\"Early stopping requires %s available!\" % self.monitor, RuntimeWarning)\n",
        "\n",
        "        if current < self.value:\n",
        "            if self.verbose > 0:\n",
        "                print(\"Epoch %05d: early stopping THR\" % epoch)\n",
        "            self.model.stop_training = True\n",
        "\n"
      ],
      "execution_count": 0,
      "outputs": []
    },
    {
      "cell_type": "code",
      "metadata": {
        "id": "Ok1DKHrDzOPN",
        "colab_type": "code",
        "colab": {}
      },
      "source": [
        "batch=1000\n"
      ],
      "execution_count": 0,
      "outputs": []
    },
    {
      "cell_type": "code",
      "metadata": {
        "id": "V4XGPqzY916_",
        "colab_type": "code",
        "colab": {
          "base_uri": "https://localhost:8080/",
          "height": 1000
        },
        "outputId": "9deeb3e9-b0e1-4184-fe73-85e487a1eb72"
      },
      "source": [
        "#DNN model\n",
        "\n",
        "tf.keras.backend.clear_session() \n",
        "model = Sequential()\n",
        "model.add(Dense(64, input_shape=(row*col,)))\n",
        "model.add(Activation('relu'))\n",
        "#model.add(Dropout(0.2))\n",
        "model.add(Dense(n_class))\n",
        "model.add(Activation('softmax'))\n",
        "model.compile(loss='categorical_crossentropy',optimizer=Adam(),metrics=['accuracy'])\n",
        "\n",
        "callbacks = [EarlyStopping(monitor='accuracy',verbose=1)]\n",
        "\n",
        "model.fit(x_train_dnn,y_train,nb_epoch=100,batch_size=batch,validation_split=0.2)\n",
        "model.save('my_model.h5')\n",
        "\n"
      ],
      "execution_count": 49,
      "outputs": [
        {
          "output_type": "stream",
          "text": [
            "WARNING:tensorflow:The `nb_epoch` argument in `fit` has been renamed `epochs`.\n",
            "Train on 48000 samples, validate on 12000 samples\n",
            "Epoch 1/100\n",
            "48000/48000 [==============================] - 1s 12us/sample - loss: 28.7282 - accuracy: 0.5832 - val_loss: 7.2281 - val_accuracy: 0.7028\n",
            "Epoch 2/100\n",
            "48000/48000 [==============================] - 0s 4us/sample - loss: 4.8353 - accuracy: 0.6796 - val_loss: 2.6513 - val_accuracy: 0.5748\n",
            "Epoch 3/100\n",
            "48000/48000 [==============================] - 0s 4us/sample - loss: 2.0891 - accuracy: 0.6112 - val_loss: 1.8134 - val_accuracy: 0.6427\n",
            "Epoch 4/100\n",
            "48000/48000 [==============================] - 0s 4us/sample - loss: 1.6396 - accuracy: 0.6535 - val_loss: 1.5419 - val_accuracy: 0.6603\n",
            "Epoch 5/100\n",
            "48000/48000 [==============================] - 0s 4us/sample - loss: 1.4458 - accuracy: 0.6619 - val_loss: 1.4110 - val_accuracy: 0.6680\n",
            "Epoch 6/100\n",
            "48000/48000 [==============================] - 0s 4us/sample - loss: 1.3073 - accuracy: 0.6735 - val_loss: 1.3358 - val_accuracy: 0.6700\n",
            "Epoch 7/100\n",
            "48000/48000 [==============================] - 0s 4us/sample - loss: 1.1993 - accuracy: 0.6817 - val_loss: 1.2140 - val_accuracy: 0.6823\n",
            "Epoch 8/100\n",
            "48000/48000 [==============================] - 0s 4us/sample - loss: 1.1151 - accuracy: 0.6846 - val_loss: 1.1563 - val_accuracy: 0.6712\n",
            "Epoch 9/100\n",
            "48000/48000 [==============================] - 0s 4us/sample - loss: 1.0510 - accuracy: 0.6877 - val_loss: 1.0954 - val_accuracy: 0.6888\n",
            "Epoch 10/100\n",
            "48000/48000 [==============================] - 0s 4us/sample - loss: 0.9890 - accuracy: 0.6978 - val_loss: 1.0545 - val_accuracy: 0.6946\n",
            "Epoch 11/100\n",
            "48000/48000 [==============================] - 0s 4us/sample - loss: 0.9385 - accuracy: 0.7053 - val_loss: 1.0107 - val_accuracy: 0.6877\n",
            "Epoch 12/100\n",
            "48000/48000 [==============================] - 0s 4us/sample - loss: 0.8970 - accuracy: 0.7114 - val_loss: 0.9742 - val_accuracy: 0.7001\n",
            "Epoch 13/100\n",
            "48000/48000 [==============================] - 0s 4us/sample - loss: 0.8543 - accuracy: 0.7174 - val_loss: 0.9363 - val_accuracy: 0.7038\n",
            "Epoch 14/100\n",
            "48000/48000 [==============================] - 0s 4us/sample - loss: 0.8161 - accuracy: 0.7230 - val_loss: 0.9038 - val_accuracy: 0.7157\n",
            "Epoch 15/100\n",
            "48000/48000 [==============================] - 0s 4us/sample - loss: 0.7755 - accuracy: 0.7267 - val_loss: 0.8667 - val_accuracy: 0.7147\n",
            "Epoch 16/100\n",
            "48000/48000 [==============================] - 0s 4us/sample - loss: 0.7417 - accuracy: 0.7289 - val_loss: 0.8438 - val_accuracy: 0.7212\n",
            "Epoch 17/100\n",
            "48000/48000 [==============================] - 0s 4us/sample - loss: 0.7233 - accuracy: 0.7325 - val_loss: 0.8261 - val_accuracy: 0.7173\n",
            "Epoch 18/100\n",
            "48000/48000 [==============================] - 0s 4us/sample - loss: 0.6994 - accuracy: 0.7340 - val_loss: 0.8072 - val_accuracy: 0.7197\n",
            "Epoch 19/100\n",
            "48000/48000 [==============================] - 0s 4us/sample - loss: 0.6872 - accuracy: 0.7384 - val_loss: 0.8007 - val_accuracy: 0.7233\n",
            "Epoch 20/100\n",
            "48000/48000 [==============================] - 0s 4us/sample - loss: 0.6696 - accuracy: 0.7411 - val_loss: 0.7848 - val_accuracy: 0.7289\n",
            "Epoch 21/100\n",
            "48000/48000 [==============================] - 0s 4us/sample - loss: 0.6568 - accuracy: 0.7490 - val_loss: 0.7730 - val_accuracy: 0.7394\n",
            "Epoch 22/100\n",
            "48000/48000 [==============================] - 0s 4us/sample - loss: 0.6413 - accuracy: 0.7601 - val_loss: 0.7529 - val_accuracy: 0.7527\n",
            "Epoch 23/100\n",
            "48000/48000 [==============================] - 0s 4us/sample - loss: 0.6266 - accuracy: 0.7673 - val_loss: 0.7431 - val_accuracy: 0.7520\n",
            "Epoch 24/100\n",
            "48000/48000 [==============================] - 0s 4us/sample - loss: 0.6141 - accuracy: 0.7726 - val_loss: 0.7286 - val_accuracy: 0.7588\n",
            "Epoch 25/100\n",
            "48000/48000 [==============================] - 0s 4us/sample - loss: 0.6039 - accuracy: 0.7749 - val_loss: 0.7170 - val_accuracy: 0.7622\n",
            "Epoch 26/100\n",
            "48000/48000 [==============================] - 0s 4us/sample - loss: 0.5919 - accuracy: 0.7797 - val_loss: 0.7076 - val_accuracy: 0.7648\n",
            "Epoch 27/100\n",
            "48000/48000 [==============================] - 0s 5us/sample - loss: 0.5784 - accuracy: 0.7850 - val_loss: 0.6949 - val_accuracy: 0.7682\n",
            "Epoch 28/100\n",
            "48000/48000 [==============================] - 0s 4us/sample - loss: 0.5700 - accuracy: 0.7866 - val_loss: 0.6843 - val_accuracy: 0.7704\n",
            "Epoch 29/100\n",
            "48000/48000 [==============================] - 0s 4us/sample - loss: 0.5584 - accuracy: 0.7918 - val_loss: 0.6816 - val_accuracy: 0.7732\n",
            "Epoch 30/100\n",
            "48000/48000 [==============================] - 0s 4us/sample - loss: 0.5500 - accuracy: 0.7938 - val_loss: 0.6696 - val_accuracy: 0.7765\n",
            "Epoch 31/100\n",
            "48000/48000 [==============================] - 0s 4us/sample - loss: 0.5411 - accuracy: 0.7961 - val_loss: 0.6720 - val_accuracy: 0.7801\n",
            "Epoch 32/100\n",
            "48000/48000 [==============================] - 0s 4us/sample - loss: 0.5344 - accuracy: 0.7984 - val_loss: 0.6654 - val_accuracy: 0.7843\n",
            "Epoch 33/100\n",
            "48000/48000 [==============================] - 0s 4us/sample - loss: 0.5279 - accuracy: 0.8016 - val_loss: 0.6548 - val_accuracy: 0.7858\n",
            "Epoch 34/100\n",
            "48000/48000 [==============================] - 0s 4us/sample - loss: 0.5208 - accuracy: 0.8045 - val_loss: 0.6470 - val_accuracy: 0.7872\n",
            "Epoch 35/100\n",
            "48000/48000 [==============================] - 0s 4us/sample - loss: 0.5111 - accuracy: 0.8079 - val_loss: 0.6441 - val_accuracy: 0.7889\n",
            "Epoch 36/100\n",
            "48000/48000 [==============================] - 0s 4us/sample - loss: 0.5078 - accuracy: 0.8092 - val_loss: 0.6418 - val_accuracy: 0.7905\n",
            "Epoch 37/100\n",
            "48000/48000 [==============================] - 0s 4us/sample - loss: 0.4987 - accuracy: 0.8127 - val_loss: 0.6335 - val_accuracy: 0.7969\n",
            "Epoch 38/100\n",
            "48000/48000 [==============================] - 0s 4us/sample - loss: 0.4907 - accuracy: 0.8173 - val_loss: 0.6351 - val_accuracy: 0.7991\n",
            "Epoch 39/100\n",
            "48000/48000 [==============================] - 0s 4us/sample - loss: 0.4882 - accuracy: 0.8172 - val_loss: 0.6236 - val_accuracy: 0.7998\n",
            "Epoch 40/100\n",
            "48000/48000 [==============================] - 0s 4us/sample - loss: 0.4815 - accuracy: 0.8211 - val_loss: 0.6194 - val_accuracy: 0.8020\n",
            "Epoch 41/100\n",
            "48000/48000 [==============================] - 0s 4us/sample - loss: 0.4752 - accuracy: 0.8223 - val_loss: 0.6207 - val_accuracy: 0.8057\n",
            "Epoch 42/100\n",
            "48000/48000 [==============================] - 0s 5us/sample - loss: 0.4685 - accuracy: 0.8253 - val_loss: 0.6137 - val_accuracy: 0.8086\n",
            "Epoch 43/100\n",
            "48000/48000 [==============================] - 0s 4us/sample - loss: 0.4581 - accuracy: 0.8298 - val_loss: 0.6014 - val_accuracy: 0.8151\n",
            "Epoch 44/100\n",
            "48000/48000 [==============================] - 0s 4us/sample - loss: 0.4478 - accuracy: 0.8343 - val_loss: 0.5901 - val_accuracy: 0.8173\n",
            "Epoch 45/100\n",
            "48000/48000 [==============================] - 0s 4us/sample - loss: 0.4386 - accuracy: 0.8392 - val_loss: 0.5827 - val_accuracy: 0.8189\n",
            "Epoch 46/100\n",
            "48000/48000 [==============================] - 0s 4us/sample - loss: 0.4320 - accuracy: 0.8411 - val_loss: 0.5903 - val_accuracy: 0.8191\n",
            "Epoch 47/100\n",
            "48000/48000 [==============================] - 0s 4us/sample - loss: 0.4281 - accuracy: 0.8426 - val_loss: 0.5752 - val_accuracy: 0.8204\n",
            "Epoch 48/100\n",
            "48000/48000 [==============================] - 0s 4us/sample - loss: 0.4217 - accuracy: 0.8424 - val_loss: 0.5796 - val_accuracy: 0.8227\n",
            "Epoch 49/100\n",
            "48000/48000 [==============================] - 0s 4us/sample - loss: 0.4167 - accuracy: 0.8450 - val_loss: 0.5740 - val_accuracy: 0.8241\n",
            "Epoch 50/100\n",
            "48000/48000 [==============================] - 0s 5us/sample - loss: 0.4128 - accuracy: 0.8462 - val_loss: 0.5734 - val_accuracy: 0.8248\n",
            "Epoch 51/100\n",
            "48000/48000 [==============================] - 0s 4us/sample - loss: 0.4134 - accuracy: 0.8467 - val_loss: 0.5731 - val_accuracy: 0.8277\n",
            "Epoch 52/100\n",
            "48000/48000 [==============================] - 0s 4us/sample - loss: 0.4076 - accuracy: 0.8476 - val_loss: 0.5655 - val_accuracy: 0.8255\n",
            "Epoch 53/100\n",
            "48000/48000 [==============================] - 0s 4us/sample - loss: 0.4044 - accuracy: 0.8488 - val_loss: 0.5715 - val_accuracy: 0.8247\n",
            "Epoch 54/100\n",
            "48000/48000 [==============================] - 0s 4us/sample - loss: 0.4021 - accuracy: 0.8507 - val_loss: 0.5555 - val_accuracy: 0.8275\n",
            "Epoch 55/100\n",
            "48000/48000 [==============================] - 0s 4us/sample - loss: 0.3981 - accuracy: 0.8512 - val_loss: 0.5674 - val_accuracy: 0.8288\n",
            "Epoch 56/100\n",
            "48000/48000 [==============================] - 0s 4us/sample - loss: 0.3959 - accuracy: 0.8524 - val_loss: 0.5664 - val_accuracy: 0.8231\n",
            "Epoch 57/100\n",
            "48000/48000 [==============================] - 0s 4us/sample - loss: 0.3933 - accuracy: 0.8518 - val_loss: 0.5686 - val_accuracy: 0.8314\n",
            "Epoch 58/100\n",
            "48000/48000 [==============================] - 0s 4us/sample - loss: 0.3913 - accuracy: 0.8535 - val_loss: 0.5705 - val_accuracy: 0.8277\n",
            "Epoch 59/100\n",
            "48000/48000 [==============================] - 0s 4us/sample - loss: 0.3888 - accuracy: 0.8547 - val_loss: 0.5585 - val_accuracy: 0.8314\n",
            "Epoch 60/100\n",
            "48000/48000 [==============================] - 0s 4us/sample - loss: 0.3868 - accuracy: 0.8554 - val_loss: 0.5571 - val_accuracy: 0.8302\n",
            "Epoch 61/100\n",
            "48000/48000 [==============================] - 0s 4us/sample - loss: 0.3820 - accuracy: 0.8560 - val_loss: 0.5540 - val_accuracy: 0.8363\n",
            "Epoch 62/100\n",
            "48000/48000 [==============================] - 0s 4us/sample - loss: 0.3799 - accuracy: 0.8565 - val_loss: 0.5676 - val_accuracy: 0.8324\n",
            "Epoch 63/100\n",
            "48000/48000 [==============================] - 0s 4us/sample - loss: 0.3810 - accuracy: 0.8576 - val_loss: 0.5537 - val_accuracy: 0.8342\n",
            "Epoch 64/100\n",
            "48000/48000 [==============================] - 0s 4us/sample - loss: 0.3759 - accuracy: 0.8588 - val_loss: 0.5517 - val_accuracy: 0.8351\n",
            "Epoch 65/100\n",
            "48000/48000 [==============================] - 0s 4us/sample - loss: 0.3733 - accuracy: 0.8589 - val_loss: 0.5663 - val_accuracy: 0.8358\n",
            "Epoch 66/100\n",
            "48000/48000 [==============================] - 0s 4us/sample - loss: 0.3759 - accuracy: 0.8583 - val_loss: 0.5485 - val_accuracy: 0.8346\n",
            "Epoch 67/100\n",
            "48000/48000 [==============================] - 0s 4us/sample - loss: 0.3738 - accuracy: 0.8609 - val_loss: 0.5536 - val_accuracy: 0.8367\n",
            "Epoch 68/100\n",
            "48000/48000 [==============================] - 0s 5us/sample - loss: 0.3674 - accuracy: 0.8628 - val_loss: 0.5631 - val_accuracy: 0.8390\n",
            "Epoch 69/100\n",
            "48000/48000 [==============================] - 0s 4us/sample - loss: 0.3687 - accuracy: 0.8634 - val_loss: 0.5549 - val_accuracy: 0.8369\n",
            "Epoch 70/100\n",
            "48000/48000 [==============================] - 0s 4us/sample - loss: 0.3697 - accuracy: 0.8631 - val_loss: 0.5601 - val_accuracy: 0.8348\n",
            "Epoch 71/100\n",
            "48000/48000 [==============================] - 0s 4us/sample - loss: 0.3662 - accuracy: 0.8638 - val_loss: 0.5499 - val_accuracy: 0.8388\n",
            "Epoch 72/100\n",
            "48000/48000 [==============================] - 0s 4us/sample - loss: 0.3633 - accuracy: 0.8631 - val_loss: 0.5583 - val_accuracy: 0.8365\n",
            "Epoch 73/100\n",
            "48000/48000 [==============================] - 0s 4us/sample - loss: 0.3613 - accuracy: 0.8657 - val_loss: 0.5733 - val_accuracy: 0.8352\n",
            "Epoch 74/100\n",
            "48000/48000 [==============================] - 0s 4us/sample - loss: 0.3635 - accuracy: 0.8628 - val_loss: 0.5445 - val_accuracy: 0.8401\n",
            "Epoch 75/100\n",
            "48000/48000 [==============================] - 0s 4us/sample - loss: 0.3626 - accuracy: 0.8637 - val_loss: 0.5583 - val_accuracy: 0.8412\n",
            "Epoch 76/100\n",
            "48000/48000 [==============================] - 0s 4us/sample - loss: 0.3541 - accuracy: 0.8664 - val_loss: 0.5511 - val_accuracy: 0.8376\n",
            "Epoch 77/100\n",
            "48000/48000 [==============================] - 0s 4us/sample - loss: 0.3545 - accuracy: 0.8664 - val_loss: 0.5409 - val_accuracy: 0.8405\n",
            "Epoch 78/100\n",
            "48000/48000 [==============================] - 0s 5us/sample - loss: 0.3566 - accuracy: 0.8664 - val_loss: 0.5541 - val_accuracy: 0.8386\n",
            "Epoch 79/100\n",
            "48000/48000 [==============================] - 0s 4us/sample - loss: 0.3530 - accuracy: 0.8682 - val_loss: 0.5535 - val_accuracy: 0.8394\n",
            "Epoch 80/100\n",
            "48000/48000 [==============================] - 0s 4us/sample - loss: 0.3560 - accuracy: 0.8664 - val_loss: 0.5383 - val_accuracy: 0.8391\n",
            "Epoch 81/100\n",
            "48000/48000 [==============================] - 0s 4us/sample - loss: 0.3517 - accuracy: 0.8684 - val_loss: 0.5454 - val_accuracy: 0.8424\n",
            "Epoch 82/100\n",
            "48000/48000 [==============================] - 0s 4us/sample - loss: 0.3500 - accuracy: 0.8691 - val_loss: 0.5297 - val_accuracy: 0.8438\n",
            "Epoch 83/100\n",
            "48000/48000 [==============================] - 0s 4us/sample - loss: 0.3469 - accuracy: 0.8710 - val_loss: 0.5459 - val_accuracy: 0.8363\n",
            "Epoch 84/100\n",
            "48000/48000 [==============================] - 0s 4us/sample - loss: 0.3539 - accuracy: 0.8677 - val_loss: 0.5388 - val_accuracy: 0.8428\n",
            "Epoch 85/100\n",
            "48000/48000 [==============================] - 0s 4us/sample - loss: 0.3472 - accuracy: 0.8695 - val_loss: 0.5409 - val_accuracy: 0.8372\n",
            "Epoch 86/100\n",
            "48000/48000 [==============================] - 0s 4us/sample - loss: 0.3426 - accuracy: 0.8713 - val_loss: 0.5505 - val_accuracy: 0.8411\n",
            "Epoch 87/100\n",
            "48000/48000 [==============================] - 0s 4us/sample - loss: 0.3422 - accuracy: 0.8713 - val_loss: 0.5458 - val_accuracy: 0.8367\n",
            "Epoch 88/100\n",
            "48000/48000 [==============================] - 0s 5us/sample - loss: 0.3449 - accuracy: 0.8706 - val_loss: 0.5742 - val_accuracy: 0.8388\n",
            "Epoch 89/100\n",
            "48000/48000 [==============================] - 0s 4us/sample - loss: 0.3456 - accuracy: 0.8698 - val_loss: 0.5633 - val_accuracy: 0.8415\n",
            "Epoch 90/100\n",
            "48000/48000 [==============================] - 0s 4us/sample - loss: 0.3485 - accuracy: 0.8687 - val_loss: 0.5557 - val_accuracy: 0.8415\n",
            "Epoch 91/100\n",
            "48000/48000 [==============================] - 0s 4us/sample - loss: 0.3424 - accuracy: 0.8712 - val_loss: 0.5555 - val_accuracy: 0.8381\n",
            "Epoch 92/100\n",
            "48000/48000 [==============================] - 0s 4us/sample - loss: 0.3389 - accuracy: 0.8728 - val_loss: 0.5536 - val_accuracy: 0.8425\n",
            "Epoch 93/100\n",
            "48000/48000 [==============================] - 0s 4us/sample - loss: 0.3367 - accuracy: 0.8732 - val_loss: 0.5489 - val_accuracy: 0.8409\n",
            "Epoch 94/100\n",
            "48000/48000 [==============================] - 0s 4us/sample - loss: 0.3332 - accuracy: 0.8744 - val_loss: 0.5647 - val_accuracy: 0.8380\n",
            "Epoch 95/100\n",
            "48000/48000 [==============================] - 0s 4us/sample - loss: 0.3384 - accuracy: 0.8733 - val_loss: 0.5550 - val_accuracy: 0.8430\n",
            "Epoch 96/100\n",
            "48000/48000 [==============================] - 0s 4us/sample - loss: 0.3313 - accuracy: 0.8754 - val_loss: 0.5613 - val_accuracy: 0.8397\n",
            "Epoch 97/100\n",
            "48000/48000 [==============================] - 0s 4us/sample - loss: 0.3373 - accuracy: 0.8719 - val_loss: 0.5595 - val_accuracy: 0.8398\n",
            "Epoch 98/100\n",
            "48000/48000 [==============================] - 0s 4us/sample - loss: 0.3353 - accuracy: 0.8740 - val_loss: 0.5605 - val_accuracy: 0.8411\n",
            "Epoch 99/100\n",
            "48000/48000 [==============================] - 0s 4us/sample - loss: 0.3322 - accuracy: 0.8740 - val_loss: 0.5645 - val_accuracy: 0.8448\n",
            "Epoch 100/100\n",
            "48000/48000 [==============================] - 0s 4us/sample - loss: 0.3412 - accuracy: 0.8718 - val_loss: 0.5703 - val_accuracy: 0.8424\n"
          ],
          "name": "stdout"
        }
      ]
    },
    {
      "cell_type": "code",
      "metadata": {
        "id": "9u0UqjLp0KiQ",
        "colab_type": "code",
        "colab": {}
      },
      "source": [
        "#CNN model\n",
        "\n",
        "\n",
        "model_1 = Sequential()\n",
        "model_1.add(Conv2D(32, kernel_size=(3, 3),input_shape=(row,col,1)))\n",
        "model_1.add(Activation('relu'))\n",
        "model_1.add(Conv2D(64, (3, 3)))\n",
        "model_1.add(Activation('relu'))\n",
        "model_1.add(MaxPooling2D(pool_size=(2, 2)))\n",
        "model_1.add(Conv2D(64, (3, 3)))\n",
        "model_1.add(Activation('relu'))\n",
        "model_1.add(MaxPooling2D(pool_size=(2, 2)))\n",
        "#model.add(Dropout(0.2))\n",
        "model_1.add(Flatten())\n",
        "model_1.add(Dense(128))\n",
        "model_1.add(Activation('relu'))\n",
        "model_1.add(Dense(128))\n",
        "model_1.add(Activation('relu'))\n",
        "model_1.add(Dense(n_class))\n",
        "model_1.add(Activation('softmax'))"
      ],
      "execution_count": 0,
      "outputs": []
    },
    {
      "cell_type": "code",
      "metadata": {
        "id": "4ZRzmuCvQ-Gf",
        "colab_type": "code",
        "colab": {
          "base_uri": "https://localhost:8080/",
          "height": 1000
        },
        "outputId": "848628c2-0251-42d7-d3a4-31c148687d12"
      },
      "source": [
        "model_1.compile(loss='categorical_crossentropy',optimizer=Adam(),metrics=['accuracy'])\n",
        "\n",
        "callbacks = [EarlyStopping(monitor='accuracy',verbose=1)]\n",
        "\n",
        "CNN=model_1.fit(x_train_cnn,y_train,epochs=30,batch_size=batch,validation_split=0.2)\n",
        "model_1.save('my_model_1.h5')"
      ],
      "execution_count": 34,
      "outputs": [
        {
          "output_type": "stream",
          "text": [
            "Train on 48000 samples, validate on 12000 samples\n",
            "Epoch 1/30\n",
            "48000/48000 [==============================] - 2s 42us/sample - loss: 1.0496 - accuracy: 0.6456 - val_loss: 0.6454 - val_accuracy: 0.7462\n",
            "Epoch 2/30\n",
            "48000/48000 [==============================] - 1s 30us/sample - loss: 0.5471 - accuracy: 0.7976 - val_loss: 0.4870 - val_accuracy: 0.8213\n",
            "Epoch 3/30\n",
            "48000/48000 [==============================] - 1s 30us/sample - loss: 0.4512 - accuracy: 0.8350 - val_loss: 0.4213 - val_accuracy: 0.8468\n",
            "Epoch 4/30\n",
            "48000/48000 [==============================] - 1s 30us/sample - loss: 0.3935 - accuracy: 0.8579 - val_loss: 0.3870 - val_accuracy: 0.8625\n",
            "Epoch 5/30\n",
            "48000/48000 [==============================] - 1s 29us/sample - loss: 0.3595 - accuracy: 0.8691 - val_loss: 0.3500 - val_accuracy: 0.8742\n",
            "Epoch 6/30\n",
            "48000/48000 [==============================] - 1s 30us/sample - loss: 0.3275 - accuracy: 0.8807 - val_loss: 0.3337 - val_accuracy: 0.8812\n",
            "Epoch 7/30\n",
            "48000/48000 [==============================] - 1s 30us/sample - loss: 0.3050 - accuracy: 0.8891 - val_loss: 0.3131 - val_accuracy: 0.8876\n",
            "Epoch 8/30\n",
            "48000/48000 [==============================] - 1s 30us/sample - loss: 0.2881 - accuracy: 0.8961 - val_loss: 0.2934 - val_accuracy: 0.8924\n",
            "Epoch 9/30\n",
            "48000/48000 [==============================] - 1s 30us/sample - loss: 0.2735 - accuracy: 0.9010 - val_loss: 0.2833 - val_accuracy: 0.9003\n",
            "Epoch 10/30\n",
            "48000/48000 [==============================] - 1s 30us/sample - loss: 0.2586 - accuracy: 0.9055 - val_loss: 0.2751 - val_accuracy: 0.9022\n",
            "Epoch 11/30\n",
            "48000/48000 [==============================] - 1s 30us/sample - loss: 0.2487 - accuracy: 0.9088 - val_loss: 0.2729 - val_accuracy: 0.8994\n",
            "Epoch 12/30\n",
            "48000/48000 [==============================] - 1s 30us/sample - loss: 0.2381 - accuracy: 0.9132 - val_loss: 0.2753 - val_accuracy: 0.8999\n",
            "Epoch 13/30\n",
            "48000/48000 [==============================] - 1s 30us/sample - loss: 0.2280 - accuracy: 0.9182 - val_loss: 0.2562 - val_accuracy: 0.9085\n",
            "Epoch 14/30\n",
            "48000/48000 [==============================] - 1s 29us/sample - loss: 0.2161 - accuracy: 0.9217 - val_loss: 0.2571 - val_accuracy: 0.9076\n",
            "Epoch 15/30\n",
            "48000/48000 [==============================] - 1s 30us/sample - loss: 0.2146 - accuracy: 0.9215 - val_loss: 0.2629 - val_accuracy: 0.9047\n",
            "Epoch 16/30\n",
            "48000/48000 [==============================] - 1s 30us/sample - loss: 0.2109 - accuracy: 0.9226 - val_loss: 0.2438 - val_accuracy: 0.9128\n",
            "Epoch 17/30\n",
            "48000/48000 [==============================] - 1s 30us/sample - loss: 0.1925 - accuracy: 0.9283 - val_loss: 0.2464 - val_accuracy: 0.9146\n",
            "Epoch 18/30\n",
            "48000/48000 [==============================] - 1s 30us/sample - loss: 0.1851 - accuracy: 0.9317 - val_loss: 0.2463 - val_accuracy: 0.9131\n",
            "Epoch 19/30\n",
            "48000/48000 [==============================] - 1s 30us/sample - loss: 0.1865 - accuracy: 0.9308 - val_loss: 0.2401 - val_accuracy: 0.9127\n",
            "Epoch 20/30\n",
            "48000/48000 [==============================] - 1s 30us/sample - loss: 0.1705 - accuracy: 0.9372 - val_loss: 0.2366 - val_accuracy: 0.9154\n",
            "Epoch 21/30\n",
            "48000/48000 [==============================] - 1s 30us/sample - loss: 0.1675 - accuracy: 0.9383 - val_loss: 0.2284 - val_accuracy: 0.9175\n",
            "Epoch 22/30\n",
            "48000/48000 [==============================] - 1s 30us/sample - loss: 0.1573 - accuracy: 0.9418 - val_loss: 0.2327 - val_accuracy: 0.9183\n",
            "Epoch 23/30\n",
            "48000/48000 [==============================] - 1s 30us/sample - loss: 0.1516 - accuracy: 0.9444 - val_loss: 0.2352 - val_accuracy: 0.9162\n",
            "Epoch 24/30\n",
            "48000/48000 [==============================] - 1s 30us/sample - loss: 0.1486 - accuracy: 0.9455 - val_loss: 0.2406 - val_accuracy: 0.9162\n",
            "Epoch 25/30\n",
            "48000/48000 [==============================] - 1s 30us/sample - loss: 0.1382 - accuracy: 0.9498 - val_loss: 0.2367 - val_accuracy: 0.9172\n",
            "Epoch 26/30\n",
            "48000/48000 [==============================] - 1s 30us/sample - loss: 0.1355 - accuracy: 0.9503 - val_loss: 0.2498 - val_accuracy: 0.9160\n",
            "Epoch 27/30\n",
            "48000/48000 [==============================] - 1s 30us/sample - loss: 0.1260 - accuracy: 0.9542 - val_loss: 0.2402 - val_accuracy: 0.9199\n",
            "Epoch 28/30\n",
            "48000/48000 [==============================] - 1s 30us/sample - loss: 0.1212 - accuracy: 0.9554 - val_loss: 0.2463 - val_accuracy: 0.9183\n",
            "Epoch 29/30\n",
            "48000/48000 [==============================] - 1s 30us/sample - loss: 0.1130 - accuracy: 0.9592 - val_loss: 0.2395 - val_accuracy: 0.9201\n",
            "Epoch 30/30\n",
            "48000/48000 [==============================] - 1s 29us/sample - loss: 0.1125 - accuracy: 0.9593 - val_loss: 0.2453 - val_accuracy: 0.9220\n"
          ],
          "name": "stdout"
        }
      ]
    },
    {
      "cell_type": "code",
      "metadata": {
        "id": "Q5v3Iq8YRMtN",
        "colab_type": "code",
        "colab": {
          "base_uri": "https://localhost:8080/",
          "height": 590
        },
        "outputId": "d202e2ee-f7ec-49c0-8cda-0feedc77e671"
      },
      "source": [
        "#DNN = model.fit(train_images, train_labels, validation_split=0.2, epochs=20)\n",
        "# list all data in history\n",
        "print(DNN.history.keys())\n",
        "# summarize history for accuracy\n",
        "plt.plot(DNN.history['accuracy'])\n",
        "plt.plot(DNN.history['val_accuracy'])\n",
        "plt.title('Model Accuracy')\n",
        "plt.ylabel('Accuracy')\n",
        "plt.xlabel('Epoch')\n",
        "plt.legend(['Train', 'Test'], loc='upper left')\n",
        "plt.show()\n",
        "# summarize history for loss\n",
        "plt.plot(DNN.history['loss'])\n",
        "plt.plot(DNN.history['val_loss'])\n",
        "plt.title('Model Loss')\n",
        "plt.ylabel('Loss')\n",
        "plt.xlabel('Epoch')\n",
        "plt.legend(['Train', 'Test'], loc='upper left')\n",
        "plt.show()"
      ],
      "execution_count": 50,
      "outputs": [
        {
          "output_type": "stream",
          "text": [
            "dict_keys(['loss', 'accuracy', 'val_loss', 'val_accuracy'])\n"
          ],
          "name": "stdout"
        },
        {
          "output_type": "display_data",
          "data": {
            "image/png": "[encoded data removed]",
            "text/plain": [
              "<Figure size 432x288 with 1 Axes>"
            ]
          },
          "metadata": {
            "tags": []
          }
        },
        {
          "output_type": "display_data",
          "data": {
            "image/png": "[encoded data removed]",
            "text/plain": [
              "<Figure size 432x288 with 1 Axes>"
            ]
          },
          "metadata": {
            "tags": []
          }
        }
      ]
    },
    {
      "cell_type": "code",
      "metadata": {
        "id": "eipfPTMvZuwK",
        "colab_type": "code",
        "colab": {}
      },
      "source": [
        ""
      ],
      "execution_count": 0,
      "outputs": []
    },
    {
      "cell_type": "code",
      "metadata": {
        "id": "I2Amq_yqTUZc",
        "colab_type": "code",
        "colab": {
          "base_uri": "https://localhost:8080/",
          "height": 590
        },
        "outputId": "b4b02ba9-75dd-4f41-a812-c79351f40dcc"
      },
      "source": [
        "print(CNN.history.keys())\n",
        "# summarize history for accuracy\n",
        "plt.plot(CNN.history['accuracy'])\n",
        "plt.plot(CNN.history['val_accuracy'])\n",
        "plt.title('model accuracy')\n",
        "plt.ylabel('accuracy')\n",
        "plt.xlabel('epoch')\n",
        "plt.legend(['train', 'test'], loc='upper left')\n",
        "plt.show()\n",
        "# summarize history for loss\n",
        "plt.plot(CNN.history['loss'])\n",
        "plt.plot(CNN.history['val_loss'])\n",
        "plt.title('model loss')\n",
        "plt.ylabel('loss')\n",
        "plt.xlabel('epoch')\n",
        "plt.legend(['train', 'test'], loc='upper left')\n",
        "plt.show()"
      ],
      "execution_count": 41,
      "outputs": [
        {
          "output_type": "stream",
          "text": [
            "dict_keys(['loss', 'accuracy', 'val_loss', 'val_accuracy'])\n"
          ],
          "name": "stdout"
        },
        {
          "output_type": "display_data",
          "data": {
            "image/png": "[encoded data removed]",
            "text/plain": [
              "<Figure size 432x288 with 1 Axes>"
            ]
          },
          "metadata": {
            "tags": []
          }
        },
        {
          "output_type": "display_data",
          "data": {
            "image/png": "[encoded data removed]",
            "text/plain": [
              "<Figure size 432x288 with 1 Axes>"
            ]
          },
          "metadata": {
            "tags": []
          }
        }
      ]
    },
    {
      "cell_type": "code",
      "metadata": {
        "id": "_2Dk_UnKZ9v9",
        "colab_type": "code",
        "colab": {}
      },
      "source": [
        "model_1.save(\"cnn.h5\")"
      ],
      "execution_count": 0,
      "outputs": []
    },
    {
      "cell_type": "code",
      "metadata": {
        "id": "92lE1CBxFXIR",
        "colab_type": "code",
        "colab": {
          "base_uri": "https://localhost:8080/",
          "height": 51
        },
        "outputId": "5fe3777f-2000-4611-edac-e3f0e2d41e60"
      },
      "source": [
        "model_1.evaluate(x_test_cnn,y_test)"
      ],
      "execution_count": 45,
      "outputs": [
        {
          "output_type": "stream",
          "text": [
            "10000/10000 [==============================] - 1s 110us/sample - loss: 0.2636 - accuracy: 0.9142\n"
          ],
          "name": "stdout"
        },
        {
          "output_type": "execute_result",
          "data": {
            "text/plain": [
              "[0.26360154898762705, 0.9142]"
            ]
          },
          "metadata": {
            "tags": []
          },
          "execution_count": 45
        }
      ]
    },
    {
      "cell_type": "code",
      "metadata": {
        "id": "HBKdRkk4GxdL",
        "colab_type": "code",
        "colab": {
          "base_uri": "https://localhost:8080/",
          "height": 51
        },
        "outputId": "19b8384e-7228-476f-a365-80e53cbed774"
      },
      "source": [
        "model.evaluate(x_test_dnn,y_test)"
      ],
      "execution_count": 48,
      "outputs": [
        {
          "output_type": "stream",
          "text": [
            "10000/10000 [==============================] - 1s 86us/sample - loss: 2.6044 - accuracy: 0.1663\n"
          ],
          "name": "stdout"
        },
        {
          "output_type": "execute_result",
          "data": {
            "text/plain": [
              "[2.6044134117126463, 0.1663]"
            ]
          },
          "metadata": {
            "tags": []
          },
          "execution_count": 48
        }
      ]
    },
    {
      "cell_type": "code",
      "metadata": {
        "id": "WnW4xcU3ID74",
        "colab_type": "code",
        "colab": {}
      },
      "source": [
        ""
      ],
      "execution_count": 0,
      "outputs": []
    }
  ]
}